{
 "cells": [
  {
   "cell_type": "markdown",
   "metadata": {
    "Collapsed": "false"
   },
   "source": [
    "# CartPole"
   ]
  },
  {
   "cell_type": "markdown",
   "metadata": {
    "Collapsed": "false"
   },
   "source": [
    "In this notebook we implement all the parts needed to solve CartPole using DQN. This notebook is split into parts based on what part of the problem they solve."
   ]
  },
  {
   "cell_type": "code",
   "execution_count": 1,
   "metadata": {
    "Collapsed": "false"
   },
   "outputs": [],
   "source": [
    "%matplotlib inline"
   ]
  },
  {
   "cell_type": "code",
   "execution_count": 2,
   "metadata": {
    "Collapsed": "false"
   },
   "outputs": [],
   "source": [
    "import torch\n",
    "import gym\n",
    "import time\n",
    "import matplotlib.pyplot as plt\n",
    "\n",
    "# Using GPU if possible\n",
    "device = torch.device(\"cuda\" if torch.cuda.is_available() else \"cpu\")"
   ]
  },
  {
   "cell_type": "markdown",
   "metadata": {
    "Collapsed": "false"
   },
   "source": [
    "### Data"
   ]
  },
  {
   "cell_type": "markdown",
   "metadata": {
    "Collapsed": "false"
   },
   "source": [
    "First, we should look at the data we will be dealing with. At each timestep, the CartPole environment gives us current state of the game. Let's examine it."
   ]
  },
  {
   "cell_type": "code",
   "execution_count": 3,
   "metadata": {
    "Collapsed": "false"
   },
   "outputs": [
    {
     "name": "stdout",
     "output_type": "stream",
     "text": [
      "[ 0.04532307 -0.20368747 -0.04777746  0.28443043]\n",
      "[ 0.04124932 -0.00791781 -0.04208885 -0.0229302 ]\n",
      "[ 0.04109097  0.18778168 -0.04254745 -0.32858992]\n",
      "[ 0.0448466  -0.00670955 -0.04911925 -0.04962228]\n",
      "[ 0.04471241  0.18908105 -0.0501117  -0.35738923]\n",
      "[ 0.04849403  0.38487829 -0.05725948 -0.66544307]\n",
      "[ 0.05619159  0.19059756 -0.07056834 -0.39132467]\n",
      "[ 0.06000355  0.38664636 -0.07839484 -0.70539582]\n",
      "[ 0.06773647  0.58276198 -0.09250275 -1.02169024]\n",
      "[ 0.07939171  0.388986   -0.11293656 -0.759426  ]\n",
      "[ 0.08717143  0.19558631 -0.12812508 -0.50430737]\n",
      "[ 0.09108316  0.39225907 -0.13821123 -0.83446417]\n",
      "[ 0.09892834  0.19926856 -0.15490051 -0.5882438 ]\n",
      "[ 0.10291371  0.0066162  -0.16666539 -0.34808407]\n",
      "[ 0.10304604  0.20366794 -0.17362707 -0.68833909]\n",
      "[ 0.10711939  0.40072004 -0.18739385 -1.03026339]\n",
      "[ 0.11513379  0.59777366 -0.20799912 -1.37544103]\n",
      "[ 0.12708927  0.40576739 -0.23550794 -1.15435112]\n"
     ]
    }
   ],
   "source": [
    "env = gym.make('CartPole-v0')\n",
    "env.reset()\n",
    "for _ in range(1000):\n",
    "    env.render()\n",
    "    observation, reward, done, _ = env.step(env.action_space.sample()) # take a random action\n",
    "    print(observation)\n",
    "    if done:\n",
    "        break\n",
    "env.close()"
   ]
  },
  {
   "cell_type": "markdown",
   "metadata": {
    "Collapsed": "false"
   },
   "source": [
    "We can see a problem there - observations are sets of environmnent variables, rather than actual screen. We would like to change that, because as an input to a neural network, we would like raw pixel values."
   ]
  },
  {
   "cell_type": "code",
   "execution_count": 4,
   "metadata": {
    "Collapsed": "false"
   },
   "outputs": [
    {
     "name": "stdout",
     "output_type": "stream",
     "text": [
      "(400, 600, 3)\n",
      "(400, 600, 3)\n",
      "(400, 600, 3)\n",
      "(400, 600, 3)\n",
      "(400, 600, 3)\n",
      "(400, 600, 3)\n",
      "(400, 600, 3)\n",
      "(400, 600, 3)\n",
      "(400, 600, 3)\n",
      "(400, 600, 3)\n",
      "(400, 600, 3)\n",
      "(400, 600, 3)\n",
      "(400, 600, 3)\n",
      "(400, 600, 3)\n",
      "(400, 600, 3)\n",
      "(400, 600, 3)\n",
      "(400, 600, 3)\n",
      "(400, 600, 3)\n",
      "(400, 600, 3)\n",
      "(400, 600, 3)\n",
      "(400, 600, 3)\n",
      "(400, 600, 3)\n",
      "(400, 600, 3)\n",
      "(400, 600, 3)\n",
      "(400, 600, 3)\n",
      "(400, 600, 3)\n",
      "(400, 600, 3)\n",
      "(400, 600, 3)\n",
      "(400, 600, 3)\n",
      "(400, 600, 3)\n",
      "(400, 600, 3)\n"
     ]
    },
    {
     "data": {
      "image/png": "[encoded data removed]",
      "text/plain": [
       "<Figure size 432x288 with 1 Axes>"
      ]
     },
     "metadata": {
      "needs_background": "light"
     },
     "output_type": "display_data"
    }
   ],
   "source": [
    "env = gym.make('CartPole-v0')\n",
    "env.reset()\n",
    "for _ in range(1000):\n",
    "    screen = env.render(mode='rgb_array')\n",
    "    plt.imshow(screen)\n",
    "    print(screen.shape)\n",
    "    observation, reward, done, _ = env.step(env.action_space.sample()) # take a random action\n",
    "    if done:\n",
    "        break\n",
    "env.close()"
   ]
  },
  {
   "cell_type": "markdown",
   "metadata": {
    "Collapsed": "false"
   },
   "source": [
    "Perfect. Now we can see that there is a lot of empty space in the upper half of the screen and under the cart. We also don't need the view to be so wide, so we are going to make some adjustments. The screen is 400 pixels in height and 600 pixels in width. Ideally, we would like the preprocessed frame to be square - therefore we are going to cut 150 pixels from upper half, 50 pixels from lower half, 50 pixels from both left and right and finally, we are going to apply a transform to get a 128x128 greyscale image and finaly normalize pixel values to be in range <0, 255>."
   ]
  },
  {
   "cell_type": "code",
   "execution_count": 5,
   "metadata": {
    "Collapsed": "false"
   },
   "outputs": [],
   "source": [
    "import numpy as np\n",
    "\n",
    "from skimage.transform import resize\n",
    "from IPython import display"
   ]
  },
  {
   "cell_type": "code",
   "execution_count": 6,
   "metadata": {
    "Collapsed": "false"
   },
   "outputs": [],
   "source": [
    "def rgb2grayscale(array_rgb):\n",
    "    consts = np.array([0.2989, 0.5870, 0.1140])\n",
    "    array_grayscale = np.sum(array_rgb * consts[None, None, :], axis=-1)\n",
    "    return array_grayscale"
   ]
  },
  {
   "cell_type": "code",
   "execution_count": 7,
   "metadata": {
    "Collapsed": "false"
   },
   "outputs": [],
   "source": [
    "def preprocess(frame):\n",
    "    frame = frame[150:350, 50:550, :]\n",
    "    frame = rgb2grayscale(frame)\n",
    "    frame = resize(frame, (124, 124))\n",
    "    frame = frame / 255.0\n",
    "    return frame"
   ]
  },
  {
   "cell_type": "code",
   "execution_count": 8,
   "metadata": {
    "Collapsed": "false"
   },
   "outputs": [
    {
     "data": {
      "image/png": "[encoded data removed]",
      "text/plain": [
       "<Figure size 432x288 with 1 Axes>"
      ]
     },
     "metadata": {
      "needs_background": "light"
     },
     "output_type": "display_data"
    }
   ],
   "source": [
    "env = gym.make('CartPole-v0')\n",
    "env.reset()\n",
    "for _ in range(1000):\n",
    "    screen = env.render(mode='rgb_array')\n",
    "    frame = preprocess(screen)\n",
    "    \n",
    "    display.clear_output(wait=True)\n",
    "    plt.imshow(frame, cmap=\"gray\")\n",
    "    plt.pause(0.001)\n",
    "    \n",
    "    observation, reward, done, _ = env.step(env.action_space.sample()) # take a random action\n",
    "    if done:\n",
    "        break\n",
    "env.close()"
   ]
  },
  {
   "cell_type": "markdown",
   "metadata": {
    "Collapsed": "false"
   },
   "source": [
    "This looks like a sufficient input for DQN."
   ]
  },
  {
   "cell_type": "markdown",
   "metadata": {
    "Collapsed": "false"
   },
   "source": [
    "### Model"
   ]
  },
  {
   "cell_type": "markdown",
   "metadata": {
    "Collapsed": "false"
   },
   "source": [
    "First, we implement the network itself. We can see that this network has slightly different structure, than the one in the paper. This is due to the different input dimensionality (also the number of channels in last convolutional layer had to be lowered to decrease the size of subsequent dense layer)."
   ]
  },
  {
   "cell_type": "code",
   "execution_count": 9,
   "metadata": {
    "Collapsed": "false"
   },
   "outputs": [],
   "source": [
    "import torch\n",
    "import torch.nn as nn\n",
    "import torch.nn.functional as F"
   ]
  },
  {
   "cell_type": "code",
   "execution_count": 10,
   "metadata": {
    "Collapsed": "false"
   },
   "outputs": [],
   "source": [
    "class DQN(nn.Module):\n",
    "    def __init__(self, action_count):\n",
    "        super().__init__()\n",
    "        self.conv_1 = nn.Conv2d(4, 16, 8, stride=4)\n",
    "        self.conv_2 = nn.Conv2d(16, 32, 4, stride=2)\n",
    "        self.conv_3 = nn.Conv2d(32, 32, 3, stride=1)\n",
    "\n",
    "        self.dense_first = nn.Linear(4_608, 512)\n",
    "        self.dense_second = nn.Linear(512, action_count)\n",
    "\n",
    "    def forward(self, inp):\n",
    "        # inp = batch x channels x width x height\n",
    "        x = F.relu(self.conv_1(inp))\n",
    "        x = F.relu(self.conv_2(x))\n",
    "        x = F.relu(self.conv_3(x))\n",
    "\n",
    "        x = x.view(x.shape[0], x.shape[1] * x.shape[2] * x.shape[3])\n",
    "        x = F.relu(self.dense_first(x))\n",
    "        return self.dense_second(x)"
   ]
  },
  {
   "cell_type": "markdown",
   "metadata": {
    "Collapsed": "false"
   },
   "source": [
    "Here we notice that we actually have two networks - this improves the stability of learning and prevents divergence during learning."
   ]
  },
  {
   "cell_type": "code",
   "execution_count": 11,
   "metadata": {
    "Collapsed": "false"
   },
   "outputs": [
    {
     "data": {
      "text/plain": [
       "DQN(\n",
       "  (conv_1): Conv2d(4, 16, kernel_size=(8, 8), stride=(4, 4))\n",
       "  (conv_2): Conv2d(16, 32, kernel_size=(4, 4), stride=(2, 2))\n",
       "  (conv_3): Conv2d(32, 32, kernel_size=(3, 3), stride=(1, 1))\n",
       "  (dense_first): Linear(in_features=4608, out_features=512, bias=True)\n",
       "  (dense_second): Linear(in_features=512, out_features=2, bias=True)\n",
       ")"
      ]
     },
     "execution_count": 11,
     "metadata": {},
     "output_type": "execute_result"
    }
   ],
   "source": [
    "dqn_current = DQN(2).to(device)\n",
    "dqn_new = DQN(2).to(device)\n",
    "dqn_new.load_state_dict(dqn_current.state_dict())\n",
    "dqn_new.eval()"
   ]
  },
  {
   "cell_type": "markdown",
   "metadata": {
    "Collapsed": "false"
   },
   "source": [
    "### Memory"
   ]
  },
  {
   "cell_type": "markdown",
   "metadata": {
    "Collapsed": "false"
   },
   "source": [
    "Learning from recent experiences might have negative effects on the policy of model. Therefore we implement a replay memory, from which we sample experiences to be used during training. Each experience in memory is represented as a tuple (state, action, reward, new state). After filling up the memory, we start again from the beginning of memory, rewriting previous experiences. \n",
    "\n",
    "The bigger the memory the better - however, we have to also take into consideration the operation memory (RAM) requirements. "
   ]
  },
  {
   "cell_type": "code",
   "execution_count": 12,
   "metadata": {
    "Collapsed": "false"
   },
   "outputs": [],
   "source": [
    "class Memory:\n",
    "    def __init__(self, max_size):\n",
    "        self.states = np.zeros((max_size, 4, 124, 124), dtype=np.uint8)\n",
    "        self.actions = np.zeros((max_size), dtype=np.uint8)\n",
    "        self.rewards = np.zeros((max_size), dtype=np.uint8)\n",
    "        self.new_states = np.zeros((max_size, 4, 124, 124), dtype=np.uint8)\n",
    "        \n",
    "        self.current_idx = 0\n",
    "        self.size = 0\n",
    "        self.max_size = max_size\n",
    "        \n",
    "    def add(self, state, action, reward, new_state):\n",
    "        if new_state is None:\n",
    "            return\n",
    "        \n",
    "        self.states[self.current_idx] = state\n",
    "        self.actions[self.current_idx] = action\n",
    "        self.rewards[self.current_idx] = reward\n",
    "        self.new_states[self.current_idx] = new_state\n",
    "        \n",
    "        if self.size < self.max_size:\n",
    "            self.size += 1\n",
    "            \n",
    "        self.current_idx = (self.current_idx + 1) % self.max_size\n",
    "    \n",
    "    def sample(self, batch_size):\n",
    "        batch_indices = np.random.choice(range(self.size), batch_size, False)\n",
    "        return self.states[batch_indices], self.actions[batch_indices], self.rewards[batch_indices], self.new_states[batch_indices]"
   ]
  },
  {
   "cell_type": "code",
   "execution_count": 13,
   "metadata": {
    "Collapsed": "false"
   },
   "outputs": [],
   "source": [
    "replay_size = 100_000\n",
    "memory = Memory(replay_size)"
   ]
  },
  {
   "cell_type": "markdown",
   "metadata": {
    "Collapsed": "false"
   },
   "source": [
    "### Learning, evaluation"
   ]
  },
  {
   "cell_type": "markdown",
   "metadata": {
    "Collapsed": "false"
   },
   "source": [
    "This is the most important part - here, the DQN will learn how to play CartPole. We start by declaring several useful variables and functions. After training, we evaluate performance of the trained model."
   ]
  },
  {
   "cell_type": "code",
   "execution_count": 14,
   "metadata": {
    "Collapsed": "false"
   },
   "outputs": [],
   "source": [
    "import random\n",
    "import torch.optim as optim\n",
    "\n",
    "from itertools import count"
   ]
  },
  {
   "cell_type": "code",
   "execution_count": 15,
   "metadata": {
    "Collapsed": "false"
   },
   "outputs": [],
   "source": [
    "durations = []\n",
    "means = []\n",
    "evaluation_results = {}"
   ]
  },
  {
   "cell_type": "code",
   "execution_count": 16,
   "metadata": {
    "Collapsed": "false"
   },
   "outputs": [],
   "source": [
    "def plot_running_average():\n",
    "    if len(durations) < 100:\n",
    "        return\n",
    "    display.clear_output(wait=True)\n",
    "    mean = sum(durations[len(durations)-100:len(durations)]) / 100.0\n",
    "    means.append(mean)\n",
    "    plt.plot(range(100, len(durations)+1), means)\n",
    "    plt.pause(0.001)"
   ]
  },
  {
   "cell_type": "code",
   "execution_count": 17,
   "metadata": {
    "Collapsed": "false"
   },
   "outputs": [],
   "source": [
    "def choose_action(state, epsilon):\n",
    "    if random.random() < epsilon:\n",
    "        action = env.action_space.sample()\n",
    "    else:\n",
    "        with torch.no_grad():\n",
    "            inp_torch = torch.from_numpy(state[None, :]).float().to(device)\n",
    "            action_torch = dqn_current(inp_torch).argmax(axis=1)[0]\n",
    "            action = action_torch.cpu().detach().numpy()\n",
    "\n",
    "    return action"
   ]
  },
  {
   "cell_type": "code",
   "execution_count": 18,
   "metadata": {
    "Collapsed": "false"
   },
   "outputs": [],
   "source": [
    "def evaluate():\n",
    "    durations = []\n",
    "    epochs = 100\n",
    "    eps = 0.0\n",
    "\n",
    "    for epoch in range(epochs):\n",
    "        env.reset()\n",
    "        state = np.zeros(shape=(4, 124, 124), dtype=float)\n",
    "\n",
    "        for t in count():\n",
    "            screen = env.render(mode='rgb_array')\n",
    "            frame = preprocess(screen)\n",
    "            state = np.concatenate((state[1:], frame[None, :]))\n",
    "\n",
    "            action = choose_action(state, eps)\n",
    "            _, _, done, _ = env.step(action)\n",
    "\n",
    "            if done:\n",
    "                durations.append(t+1)\n",
    "                break\n",
    "\n",
    "    durations = np.array(durations)\n",
    "    return durations.mean()"
   ]
  },
  {
   "cell_type": "markdown",
   "metadata": {
    "Collapsed": "false"
   },
   "source": [
    "Now we also need some hyperparameters to regulate the learning."
   ]
  },
  {
   "cell_type": "code",
   "execution_count": 19,
   "metadata": {
    "Collapsed": "false"
   },
   "outputs": [],
   "source": [
    "# eps - probability of selecting random action\n",
    "# Epsilon is linearly annealed from eps_beg to eps_end in eps_end_frame steps\n",
    "eps_beg = 1.0\n",
    "eps_end = 0.01\n",
    "eps_end_frame = 10_000\n",
    "eps_step = (eps_beg - eps_end) / eps_end_frame\n",
    "\n",
    "# replay_start_size - #frames saved to memory before learning starts\n",
    "# scaling_factor - see paper\n",
    "# update_frequency - #epochs before updating current network\n",
    "epochs = 1500\n",
    "eps = eps_beg\n",
    "replay_start_size = 500\n",
    "batch_size = 32\n",
    "scaling_factor = 0.99\n",
    "update_frequency = 10\n",
    "optimizer = optim.RMSprop(dqn_new.parameters(), lr = 2.5e-5, momentum=0.95, eps = 0.01)\n",
    "\n",
    "# How often, when and where are trained models saved and evaluated\n",
    "save_start = 500\n",
    "save_frequency = 50\n",
    "models_directory = \"models/\""
   ]
  },
  {
   "cell_type": "markdown",
   "metadata": {
    "Collapsed": "false"
   },
   "source": [
    "Below is the actual training cycle. Running average of number of frames before dropping pole (per last 100 frames) is ploted after each epoch (starting after 100 epochs). "
   ]
  },
  {
   "cell_type": "code",
   "execution_count": 20,
   "metadata": {
    "Collapsed": "false"
   },
   "outputs": [
    {
     "data": {
      "image/png": "[encoded data removed]",
      "text/plain": [
       "<Figure size 432x288 with 1 Axes>"
      ]
     },
     "metadata": {
      "needs_background": "light"
     },
     "output_type": "display_data"
    },
    {
     "name": "stdout",
     "output_type": "stream",
     "text": [
      "Training finished after 182.6295776327451 minutes\n"
     ]
    }
   ],
   "source": [
    "t0 = time.time()\n",
    "\n",
    "env = gym.make('CartPole-v0')\n",
    "for epoch in range(epochs):\n",
    "    env.reset()\n",
    "    \n",
    "    state = np.zeros(shape=(4, 124, 124), dtype=float)\n",
    "    last_state = None\n",
    "    last_action = None\n",
    "    last_reward = None\n",
    "    \n",
    "    for t in count():\n",
    "        screen = env.render(mode='rgb_array')\n",
    "        frame = preprocess(screen)\n",
    "        state = np.concatenate((state[1:], frame[None, :]))\n",
    "        \n",
    "        if t > 0:\n",
    "            # To lower the space demands, be save states as uint8, not float\n",
    "            memory.add(np.floor(last_state*255), last_action, last_reward, np.floor(state*255))\n",
    "            eps = max(eps_end, eps - eps_step)\n",
    "        \n",
    "        action = choose_action(state, eps)\n",
    "        _, reward, done, _ = env.step(action)\n",
    "        \n",
    "        # In this part, the update of network occurs\n",
    "        if memory.size >= replay_start_size:\n",
    "            states, actions, rewards, new_states = memory.sample(32)\n",
    "            \n",
    "            states = torch.from_numpy(states).float().to(device) / 255.0\n",
    "            actions = torch.from_numpy(actions).long().to(device)\n",
    "            rewards = torch.from_numpy(rewards).float().to(device)\n",
    "            new_states = torch.from_numpy(new_states).float().to(device) / 255.0\n",
    "            \n",
    "            # Find experiences where next state was terminal (ie the game ended)\n",
    "            episodes_end_mask = (new_states == 0.0).all(3).all(2).all(1)\n",
    "            \n",
    "            output_current = torch.max(dqn_current(new_states), 1).values\n",
    "            output_new = dqn_new(states)[range(batch_size), actions]\n",
    "            \n",
    "            # If the game ends this frame, the Q-value for next state is zero\n",
    "            output_current = torch.where(episodes_end_mask,\n",
    "                                         torch.zeros(\n",
    "                                             batch_size,\n",
    "                                             device=device),\n",
    "                                         output_current).detach()\n",
    "            \n",
    "            target = rewards + (scaling_factor * output_current)\n",
    "\n",
    "            optimizer.zero_grad()\n",
    "            \n",
    "            loss = F.mse_loss(output_new, target)\n",
    "            loss.backward()\n",
    "\n",
    "            optimizer.step()\n",
    "            \n",
    "        # Adding terminal experiences into memory - distinguished by state consisting of zeros\n",
    "        if done:\n",
    "            # To lower the space demands, be save states as uint8, not float\n",
    "            memory.add(np.floor(state*255), action, reward, np.zeros((4, 124, 124)))\n",
    "            eps = max(eps_end, eps - eps_step)\n",
    "            durations.append(t+1)\n",
    "            break\n",
    "            \n",
    "        last_state = state\n",
    "        last_action = action\n",
    "        last_reward = reward\n",
    "        \n",
    "    # Update current network\n",
    "    if (epoch + 1) % update_frequency == 0:\n",
    "        dqn_current.load_state_dict(dqn_new.state_dict())\n",
    "    \n",
    "    # Save checkpoint\n",
    "    if ((epoch + 1) % save_frequency == 0) and ((epoch + 1) >= save_start):\n",
    "        cp_name = \"cp_epoch_\" + str(epoch + 1)\n",
    "        torch.save(dqn_current.state_dict(),f'{models_directory}{cp_name}.pt')\n",
    "        evaluation_results[epoch + 1] = evaluate()\n",
    "        \n",
    "    plot_running_average()\n",
    "        \n",
    "env.close()\n",
    "\n",
    "t1 = time.time()\n",
    "print(\"Training finished after\", (t1 - t0) / 60.0, \"minutes\")"
   ]
  },
  {
   "cell_type": "code",
   "execution_count": 21,
   "metadata": {
    "Collapsed": "false"
   },
   "outputs": [
    {
     "data": {
      "text/plain": [
       "{500: 115.24,\n",
       " 550: 108.43,\n",
       " 600: 108.28,\n",
       " 650: 103.76,\n",
       " 700: 126.14,\n",
       " 750: 132.26,\n",
       " 800: 108.66,\n",
       " 850: 153.21,\n",
       " 900: 159.86,\n",
       " 950: 155.36,\n",
       " 1000: 171.04,\n",
       " 1050: 163.24,\n",
       " 1100: 154.06,\n",
       " 1150: 152.65,\n",
       " 1200: 124.61,\n",
       " 1250: 186.93,\n",
       " 1300: 148.87,\n",
       " 1350: 99.97,\n",
       " 1400: 92.78,\n",
       " 1450: 80.6,\n",
       " 1500: 86.18}"
      ]
     },
     "execution_count": 21,
     "metadata": {},
     "output_type": "execute_result"
    }
   ],
   "source": [
    "evaluation_results"
   ]
  },
  {
   "cell_type": "markdown",
   "metadata": {
    "Collapsed": "false"
   },
   "source": [
    "Evaluation of trained model - mean performance of 100 games. But first, we need to load the best performing model."
   ]
  },
  {
   "cell_type": "code",
   "execution_count": 28,
   "metadata": {
    "Collapsed": "false"
   },
   "outputs": [
    {
     "data": {
      "text/plain": [
       "<All keys matched successfully>"
      ]
     },
     "execution_count": 28,
     "metadata": {},
     "output_type": "execute_result"
    }
   ],
   "source": [
    "filepath = \"../models/cp_epoch_1250.pt\"\n",
    "\n",
    "dqn_current = DQN(2).to(device)\n",
    "dqn_current.load_state_dict(torch.load(filepath))"
   ]
  },
  {
   "cell_type": "code",
   "execution_count": 29,
   "metadata": {
    "Collapsed": "false"
   },
   "outputs": [
    {
     "name": "stdout",
     "output_type": "stream",
     "text": [
      "Mean duration: 190.96\n"
     ]
    },
    {
     "data": {
      "image/png": "[encoded data removed]",
      "text/plain": [
       "<Figure size 432x288 with 1 Axes>"
      ]
     },
     "metadata": {
      "needs_background": "light"
     },
     "output_type": "display_data"
    }
   ],
   "source": [
    "durations = []\n",
    "means = []\n",
    "epochs = 100\n",
    "eps = 0.00\n",
    "\n",
    "env = gym.make('CartPole-v0')\n",
    "for epoch in range(epochs):\n",
    "    env.reset()\n",
    "    state = np.zeros(shape=(4, 124, 124), dtype=float)\n",
    "    \n",
    "    for t in count():\n",
    "        screen = env.render(mode='rgb_array')\n",
    "        frame = preprocess(screen)\n",
    "        state = np.concatenate((state[1:], frame[None, :]))\n",
    "        \n",
    "        action = choose_action(state, eps)\n",
    "        _, _, done, _ = env.step(action)\n",
    "            \n",
    "        if done:\n",
    "            durations.append(t+1)\n",
    "            break\n",
    "            \n",
    "env.close()\n",
    "\n",
    "durations = np.array(durations)\n",
    "plt.plot(durations)\n",
    "print(\"Mean duration:\", durations.mean())"
   ]
  },
  {
   "cell_type": "markdown",
   "metadata": {
    "Collapsed": "false"
   },
   "source": [
    "### Trained model"
   ]
  },
  {
   "cell_type": "markdown",
   "metadata": {
    "Collapsed": "false"
   },
   "source": [
    "In order to train a well performing model, we have to train for many epochs. I have already trained such a model and saved it into /models directory - it's learning can be seen in the section above. Here we will look at it's performance."
   ]
  },
  {
   "cell_type": "code",
   "execution_count": 20,
   "metadata": {
    "Collapsed": "false"
   },
   "outputs": [
    {
     "data": {
      "text/plain": [
       "<All keys matched successfully>"
      ]
     },
     "execution_count": 20,
     "metadata": {},
     "output_type": "execute_result"
    }
   ],
   "source": [
    "filepath = \"models/dqn_cartpole.pt\"\n",
    "\n",
    "dqn_current = DQN(2).to(device)\n",
    "dqn_current.load_state_dict(torch.load(filepath))"
   ]
  },
  {
   "cell_type": "code",
   "execution_count": 21,
   "metadata": {
    "Collapsed": "false"
   },
   "outputs": [
    {
     "name": "stdout",
     "output_type": "stream",
     "text": [
      "Mean duration: 194.42\n"
     ]
    },
    {
     "data": {
      "image/png": "[encoded data removed]",
      "text/plain": [
       "<Figure size 432x288 with 1 Axes>"
      ]
     },
     "metadata": {
      "needs_background": "light"
     },
     "output_type": "display_data"
    }
   ],
   "source": [
    "durations = []\n",
    "means = []\n",
    "epochs = 100\n",
    "eps = 0.00\n",
    "\n",
    "env = gym.make('CartPole-v0')\n",
    "for epoch in range(epochs):\n",
    "    env.reset()\n",
    "    state = np.zeros(shape=(4, 124, 124), dtype=float)\n",
    "    \n",
    "    for t in count():\n",
    "        screen = env.render(mode='rgb_array')\n",
    "        frame = preprocess(screen)\n",
    "        state = np.concatenate((state[1:], frame[None, :]))\n",
    "        \n",
    "        action = choose_action(state, eps)\n",
    "        _, _, done, _ = env.step(action)\n",
    "            \n",
    "        if done:\n",
    "            durations.append(t+1)\n",
    "            break\n",
    "            \n",
    "env.close()\n",
    "\n",
    "durations = np.array(durations)\n",
    "plt.plot(durations)\n",
    "print(\"Mean duration:\", durations.mean())"
   ]
  },
  {
   "cell_type": "markdown",
   "metadata": {
    "Collapsed": "false"
   },
   "source": [
    "Our model has achieved mean of 194 frames before pole falls per 100 runs. Unfortunately, this task is considered solved, when the model achieves a mean of 195 frames or higher, thus the network we trained does not qualify as a solution to the problem - even though it still reached a better score than random moves, which tend to be around 20 frames - we can see that for example at the beginning of training above."
   ]
  }
 ],
 "metadata": {
  "kernelspec": {
   "display_name": "Python 3",
   "language": "python",
   "name": "python3"
  },
  "language_info": {
   "codemirror_mode": {
    "name": "ipython",
    "version": 3
   },
   "file_extension": ".py",
   "mimetype": "text/x-python",
   "name": "python",
   "nbconvert_exporter": "python",
   "pygments_lexer": "ipython3",
   "version": "3.7.4"
  }
 },
 "nbformat": 4,
 "nbformat_minor": 4
}
